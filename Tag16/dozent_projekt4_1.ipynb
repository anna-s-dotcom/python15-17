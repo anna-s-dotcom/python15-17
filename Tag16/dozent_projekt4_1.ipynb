{
 "cells": [
  {
   "cell_type": "code",
   "execution_count": 2,
   "metadata": {},
   "outputs": [],
   "source": [
    "from tensorflow.keras.layers import Conv2D, Dense, Flatten, MaxPooling2D\n",
    "from tensorflow.keras.models import Sequential\n",
    "from tensorflow.keras.datasets import fashion_mnist\n",
    "import numpy as np\n",
    "import matplotlib.pyplot as plt"
   ]
  },
  {
   "cell_type": "code",
   "execution_count": 8,
   "metadata": {},
   "outputs": [],
   "source": [
    "(X_train, y_train), (X_test, y_test) = fashion_mnist.load_data()\n",
    "target_names = ['top', 'pants', 'pullover', \n",
    "                'dress', 'coat', 'sandal', 'shirt',\n",
    "                'sneaker', 'bag', 'ankleboot']"
   ]
  },
  {
   "cell_type": "code",
   "execution_count": 9,
   "metadata": {
    "collapsed": true
   },
   "outputs": [
    {
     "data": {
      "image/png": "[encoded data removed]",
      "text/plain": [
       "<Figure size 432x288 with 1 Axes>"
      ]
     },
     "metadata": {
      "needs_background": "light"
     },
     "output_type": "display_data"
    },
    {
     "name": "stdout",
     "output_type": "stream",
     "text": [
      "9\n",
      "ankleboot\n"
     ]
    }
   ],
   "source": [
    "fig = plt.figure()\n",
    "ax = fig.add_subplot(111)\n",
    "ax.imshow(X_train[0], cmap = 'binary')\n",
    "plt.show()\n",
    "print(y_train[0])\n",
    "print(target_names[y_train[0]])"
   ]
  },
  {
   "cell_type": "code",
   "execution_count": 11,
   "metadata": {
    "collapsed": true
   },
   "outputs": [
    {
     "data": {
      "text/plain": [
       "(60000, 28, 28, 1)"
      ]
     },
     "execution_count": 11,
     "metadata": {},
     "output_type": "execute_result"
    }
   ],
   "source": [
    "X_train_n = X_train/255\n",
    "X_test_n = X_test/255\n",
    "\n",
    "X_train_n = X_train_n[:,:,:, np.newaxis]\n",
    "X_test_n = X_test_n[:,:,:, np.newaxis]\n",
    "\n",
    "X_train_n.shape"
   ]
  },
  {
   "cell_type": "code",
   "execution_count": 14,
   "metadata": {},
   "outputs": [],
   "source": [
    "model = Sequential()\n",
    "\n",
    "model.add(Conv2D(16, (3,3), activation = 'relu',\n",
    "                input_shape = (28, 28, 1)))\n",
    "model.add(MaxPooling2D((2,2)))\n",
    "\n",
    "model.add(Conv2D(16, (3,3), activation = 'relu'))\n",
    "model.add(MaxPooling2D((2,2)))\n",
    "\n",
    "model.add(Flatten())\n",
    "model.add(Dense(32, activation = 'relu'))\n",
    "\n",
    "model.add(Dense(10, activation = 'softmax'))\n",
    "          \n",
    "model.compile(optimizer = 'adam', metrics = ['accuracy'],\n",
    "             loss = 'sparse_categorical_crossentropy')"
   ]
  },
  {
   "cell_type": "code",
   "execution_count": 15,
   "metadata": {},
   "outputs": [
    {
     "name": "stdout",
     "output_type": "stream",
     "text": [
      "Train on 60000 samples, validate on 10000 samples\n",
      "Epoch 1/3\n",
      "60000/60000 [==============================] - 95s 2ms/sample - loss: 0.5523 - accuracy: 0.8014 - val_loss: 0.4295 - val_accuracy: 0.8438\n",
      "Epoch 2/3\n",
      "60000/60000 [==============================] - 91s 2ms/sample - loss: 0.3760 - accuracy: 0.8660 - val_loss: 0.3629 - val_accuracy: 0.8715\n",
      "Epoch 3/3\n",
      "60000/60000 [==============================] - 90s 2ms/sample - loss: 0.3362 - accuracy: 0.8790 - val_loss: 0.3429 - val_accuracy: 0.8773\n"
     ]
    },
    {
     "data": {
      "text/plain": [
       "<tensorflow.python.keras.callbacks.History at 0x2385d4f1808>"
      ]
     },
     "execution_count": 15,
     "metadata": {},
     "output_type": "execute_result"
    }
   ],
   "source": [
    "model.fit(X_train_n, \n",
    "          y_train, \n",
    "          validation_data = (X_test_n, y_test),\n",
    "          epochs = 3)"
   ]
  },
  {
   "cell_type": "code",
   "execution_count": 17,
   "metadata": {},
   "outputs": [
    {
     "name": "stdout",
     "output_type": "stream",
     "text": [
      "Model: \"sequential_1\"\n",
      "_________________________________________________________________\n",
      "Layer (type)                 Output Shape              Param #   \n",
      "=================================================================\n",
      "conv2d_2 (Conv2D)            (None, 26, 26, 16)        160       \n",
      "_________________________________________________________________\n",
      "max_pooling2d_2 (MaxPooling2 (None, 13, 13, 16)        0         \n",
      "_________________________________________________________________\n",
      "conv2d_3 (Conv2D)            (None, 11, 11, 16)        2320      \n",
      "_________________________________________________________________\n",
      "max_pooling2d_3 (MaxPooling2 (None, 5, 5, 16)          0         \n",
      "_________________________________________________________________\n",
      "flatten_1 (Flatten)          (None, 400)               0         \n",
      "_________________________________________________________________\n",
      "dense_2 (Dense)              (None, 32)                12832     \n",
      "_________________________________________________________________\n",
      "dense_3 (Dense)              (None, 10)                330       \n",
      "=================================================================\n",
      "Total params: 15,642\n",
      "Trainable params: 15,642\n",
      "Non-trainable params: 0\n",
      "_________________________________________________________________\n"
     ]
    }
   ],
   "source": [
    "model.summary()"
   ]
  },
  {
   "cell_type": "code",
   "execution_count": 19,
   "metadata": {
    "collapsed": true
   },
   "outputs": [
    {
     "name": "stdout",
     "output_type": "stream",
     "text": [
      "[array([[[[ 2.82488596e-02,  1.81333802e-03, -6.64804637e-01,\n",
      "          -6.00559004e-02,  2.94939041e-01,  2.36335784e-01,\n",
      "           8.57546739e-03,  2.58954674e-01,  2.72884190e-01,\n",
      "          -5.81272282e-02, -7.45494217e-02, -1.65407479e-01,\n",
      "           3.32134306e-01,  6.32530153e-02, -3.38475294e-02,\n",
      "          -4.58357595e-02]],\n",
      "\n",
      "        [[ 5.93029968e-02,  6.71621859e-02, -1.38247478e+00,\n",
      "          -2.57670343e-01, -2.98045248e-01, -1.61765113e-01,\n",
      "           3.83631587e-01, -1.93520084e-01,  2.75379002e-01,\n",
      "           3.38402361e-01,  2.66802032e-02,  2.22646132e-01,\n",
      "          -1.72949493e-01,  2.69326061e-01, -9.51339826e-02,\n",
      "           1.39951482e-01]],\n",
      "\n",
      "        [[ 2.49349490e-01,  2.78020620e-01, -1.02188540e+00,\n",
      "           3.02903950e-01, -1.98069230e-01,  2.42624342e-01,\n",
      "           1.14318818e-01, -6.76190257e-02,  1.82055086e-01,\n",
      "          -1.52656421e-01, -2.67685384e-01,  7.63070583e-02,\n",
      "          -1.69126406e-01, -3.14105421e-01, -5.66202104e-02,\n",
      "          -1.16636209e-01]]],\n",
      "\n",
      "\n",
      "       [[[-1.32267982e-01, -5.82991913e-02,  1.57149255e-01,\n",
      "           7.58882985e-02,  3.07176113e-01, -7.62342885e-02,\n",
      "           2.29360953e-01, -8.81581530e-02, -3.00032347e-02,\n",
      "          -9.91149768e-02,  1.33200824e-01, -2.68871754e-01,\n",
      "           1.37134418e-01, -6.55577809e-04,  2.46954948e-01,\n",
      "           2.72648871e-01]],\n",
      "\n",
      "        [[ 6.39605373e-02, -8.91044587e-02, -6.92593396e-01,\n",
      "          -3.49438280e-01, -1.66010365e-01, -2.21711189e-01,\n",
      "           2.70557702e-01, -1.20608516e-01,  1.12443194e-01,\n",
      "           1.04898937e-01, -2.00118020e-01,  1.16746217e-01,\n",
      "           1.51144475e-01,  1.46437049e-01,  1.30698904e-01,\n",
      "           9.34461057e-02]],\n",
      "\n",
      "        [[ 1.90123066e-01,  1.08325258e-01, -4.88834769e-01,\n",
      "           2.23267570e-01, -2.41324723e-01, -9.06053279e-03,\n",
      "           2.04559982e-01,  3.31297874e-01,  8.74674022e-02,\n",
      "          -1.81297939e-02,  1.56103144e-03,  1.84700966e-01,\n",
      "          -2.88163036e-01,  2.22133532e-01,  6.09692186e-02,\n",
      "          -8.33534673e-02]]],\n",
      "\n",
      "\n",
      "       [[[ 1.05074041e-01,  5.75946532e-02,  2.65606791e-01,\n",
      "           6.67725056e-02,  3.81894559e-01,  1.25992402e-01,\n",
      "           1.16217837e-01, -2.83870667e-01, -2.89833963e-01,\n",
      "           1.58460349e-01, -4.25624335e-03, -3.45300943e-01,\n",
      "           1.68531671e-01,  4.86154519e-02, -6.37962222e-02,\n",
      "           1.64778352e-01]],\n",
      "\n",
      "        [[ 1.78415790e-01, -2.05634475e-01,  2.06141919e-01,\n",
      "          -2.82103270e-01, -1.42907977e-01, -4.47431862e-01,\n",
      "           7.63771757e-02, -1.99306458e-01, -3.79936397e-01,\n",
      "           2.08746582e-01,  2.79885918e-01,  2.02870131e-01,\n",
      "          -5.99109866e-02, -6.52984902e-02, -3.42419565e-01,\n",
      "          -1.09637208e-01]],\n",
      "\n",
      "        [[-1.14936441e-01, -1.15406610e-01,  2.34476954e-01,\n",
      "           1.51063710e-01,  2.19924208e-02,  2.47031882e-01,\n",
      "           1.09661641e-02,  3.55827093e-01, -2.75085628e-01,\n",
      "          -4.17242572e-02,  2.54499167e-01,  1.25687107e-01,\n",
      "          -7.67074376e-02, -1.72565266e-01, -5.41415572e-01,\n",
      "          -2.87817325e-02]]]], dtype=float32), array([ 3.3491109e-03,  1.2103145e-02,  2.2873788e-01,  8.8542424e-02,\n",
      "        3.4629658e-02,  5.9705172e-02, -4.5250525e-04,  2.6936380e-03,\n",
      "       -2.1682018e-03, -4.9750293e-03, -2.2297979e-03,  1.0805152e-04,\n",
      "        7.2899587e-03,  7.3963907e-03,  9.8950565e-02,  1.0201012e-02],\n",
      "      dtype=float32)]\n",
      "[]\n",
      "[array([[[[ 5.89404888e-02, -3.74136260e-03,  5.25551140e-02, ...,\n",
      "           6.43878728e-02,  7.28096068e-02,  1.07532211e-01],\n",
      "         [-6.35139048e-02,  6.76647201e-02, -2.55543254e-02, ...,\n",
      "           1.76036730e-01, -1.20143192e-02,  2.16813590e-02],\n",
      "         [-5.45483306e-02,  2.76525676e-01, -2.23040625e-01, ...,\n",
      "           1.74285611e-03,  8.50480273e-02, -1.20056652e-01],\n",
      "         ...,\n",
      "         [-1.70530956e-02, -1.51855741e-02,  1.43863007e-01, ...,\n",
      "           1.39991060e-01,  1.33908287e-01, -3.30883339e-02],\n",
      "         [ 1.65260002e-01, -3.33427668e-01, -1.62466183e-01, ...,\n",
      "          -1.42594233e-01, -5.70587292e-02, -1.43699989e-01],\n",
      "         [ 3.73040587e-02, -5.13124801e-02, -2.14750357e-02, ...,\n",
      "          -8.23377538e-03, -7.77119547e-02,  1.09511450e-01]],\n",
      "\n",
      "        [[-6.33678362e-02,  1.84342414e-01,  7.72110978e-03, ...,\n",
      "          -3.14506926e-02, -4.26638387e-02, -2.49217451e-02],\n",
      "         [ 1.31993756e-01, -1.89470842e-01, -7.07787424e-02, ...,\n",
      "           6.74273586e-03,  1.70732173e-03,  9.04799476e-02],\n",
      "         [-6.34297580e-02,  2.46965997e-02, -1.34311035e-01, ...,\n",
      "           1.13172261e-02,  3.00103933e-01, -5.60613990e-01],\n",
      "         ...,\n",
      "         [-7.60115162e-02,  3.23643200e-02,  1.82857141e-01, ...,\n",
      "           1.33600980e-01,  3.63769382e-02,  9.78368744e-02],\n",
      "         [-1.01830140e-01, -1.53820783e-01, -2.34297380e-01, ...,\n",
      "          -1.48008615e-01, -1.15763836e-01, -2.20861316e-01],\n",
      "         [ 9.71761122e-02, -9.87365842e-03,  2.14126736e-01, ...,\n",
      "           9.22726616e-02, -8.45619440e-02,  1.27863824e-01]],\n",
      "\n",
      "        [[-1.25759676e-01,  1.05028063e-01,  1.50694922e-01, ...,\n",
      "          -1.47401437e-01, -7.33176693e-02,  1.49209667e-02],\n",
      "         [ 6.10397197e-02, -1.90079082e-02,  8.87195766e-03, ...,\n",
      "           1.05125412e-01, -9.51034669e-03,  1.12600721e-01],\n",
      "         [ 3.89052093e-01,  1.89791262e-01, -3.75091642e-01, ...,\n",
      "           6.87018186e-02,  3.73031735e-01, -4.31103967e-02],\n",
      "         ...,\n",
      "         [-1.50564760e-02, -8.35032016e-02,  1.14591911e-01, ...,\n",
      "           5.00023291e-02, -1.16517544e-01,  8.48150030e-02],\n",
      "         [ 7.09002614e-02, -4.59935218e-02, -9.70667079e-02, ...,\n",
      "          -2.58065820e-01, -4.91232472e-03, -5.88391609e-02],\n",
      "         [ 3.75122502e-02,  5.84529489e-02,  1.72580793e-01, ...,\n",
      "          -1.50700003e-01, -1.69746175e-01, -1.12350829e-01]]],\n",
      "\n",
      "\n",
      "       [[[-6.50689751e-02, -5.08307368e-02,  1.63019761e-01, ...,\n",
      "           1.61653757e-01,  1.17829733e-01, -2.25235033e-03],\n",
      "         [-1.38480306e-01,  1.71642117e-02,  1.26018956e-01, ...,\n",
      "           1.44798040e-01,  4.25739177e-02,  9.94979590e-02],\n",
      "         [ 1.08231217e-01,  1.27495099e-02, -7.75924772e-02, ...,\n",
      "          -1.45964418e-02, -9.98180956e-02, -1.70278355e-01],\n",
      "         ...,\n",
      "         [-2.24041678e-02, -2.48212554e-02,  1.10515498e-01, ...,\n",
      "          -1.65411029e-02, -1.31910220e-01,  1.26210868e-01],\n",
      "         [ 2.64600618e-03,  2.57697012e-02, -1.82206016e-02, ...,\n",
      "          -2.01271445e-01,  3.87916453e-02, -2.64996588e-02],\n",
      "         [-6.69268053e-03, -5.35346381e-02, -1.34715632e-01, ...,\n",
      "           7.10838065e-02, -1.08325623e-01,  1.94924809e-02]],\n",
      "\n",
      "        [[-7.00609386e-02,  4.52520251e-02,  1.92136511e-01, ...,\n",
      "           1.05721325e-01, -5.49996048e-02,  1.04165204e-01],\n",
      "         [ 2.15069547e-01,  1.22608617e-01,  1.60205334e-01, ...,\n",
      "           4.24357802e-02,  2.61230916e-01,  1.24141276e-01],\n",
      "         [-5.33406399e-02,  2.37925407e-02,  5.32759577e-02, ...,\n",
      "           4.19564508e-02, -2.82026172e-01, -7.35552311e-02],\n",
      "         ...,\n",
      "         [ 1.59970522e-01,  4.81629819e-02,  4.83934656e-02, ...,\n",
      "          -8.30624774e-02,  6.52643992e-03,  1.12256348e-01],\n",
      "         [-1.87201113e-01,  2.49426484e-01,  1.71965957e-01, ...,\n",
      "          -1.48751214e-01, -5.15232794e-02, -1.66682824e-01],\n",
      "         [-5.78854755e-02,  6.92543164e-02,  3.73311415e-02, ...,\n",
      "           1.10691279e-01,  9.36082099e-03,  1.31469324e-01]],\n",
      "\n",
      "        [[-5.30863181e-02, -2.88645905e-02, -1.85545102e-01, ...,\n",
      "           4.09233496e-02, -2.41187476e-02,  7.75597394e-02],\n",
      "         [-8.66299868e-02,  3.26955579e-02, -2.08998900e-02, ...,\n",
      "          -1.55074850e-01,  1.48406595e-01,  1.26802206e-01],\n",
      "         [-6.68084621e-02, -1.04227968e-01, -1.88654765e-01, ...,\n",
      "          -1.93949491e-01, -4.20716077e-01, -2.44333595e-01],\n",
      "         ...,\n",
      "         [-3.94082554e-02,  1.26595274e-01, -2.57187244e-03, ...,\n",
      "           3.67499031e-02,  2.35021990e-02, -6.88343644e-02],\n",
      "         [-4.02532160e-01, -5.31749837e-02, -1.85097560e-01, ...,\n",
      "          -2.32810721e-01,  7.45279714e-02,  8.46842900e-02],\n",
      "         [-1.50567908e-02, -3.88299823e-02,  1.05780736e-01, ...,\n",
      "           1.05608620e-01, -5.91559075e-02, -2.22483501e-02]]],\n",
      "\n",
      "\n",
      "       [[[-1.22933201e-01, -1.40327290e-01,  2.66833436e-02, ...,\n",
      "           1.45113915e-01,  6.81753755e-02, -1.04449973e-01],\n",
      "         [-5.68021387e-02,  2.33433291e-01, -1.49420723e-01, ...,\n",
      "           3.21303569e-02,  8.57666507e-02, -9.54925641e-02],\n",
      "         [ 1.98756218e-01, -3.99049707e-02,  3.67725730e-01, ...,\n",
      "           2.66142059e-02, -2.37146050e-01, -4.37353194e-01],\n",
      "         ...,\n",
      "         [-1.36080131e-01,  7.14884400e-02, -1.33819789e-01, ...,\n",
      "           1.37767598e-01,  7.99039453e-02,  3.26303095e-02],\n",
      "         [ 1.45250872e-01,  2.22751498e-01,  9.92390588e-02, ...,\n",
      "           3.30935359e-01, -3.97821903e-01, -3.08077168e-02],\n",
      "         [-1.60642475e-01, -1.55783564e-01,  9.13475230e-02, ...,\n",
      "          -7.65144080e-02, -1.71216894e-02, -5.84659539e-02]],\n",
      "\n",
      "        [[ 1.59952372e-01,  1.81849655e-02, -1.55159207e-02, ...,\n",
      "          -2.56496910e-02,  1.69937946e-02, -6.62113056e-02],\n",
      "         [-1.15302242e-02,  2.23200187e-01, -8.19688756e-03, ...,\n",
      "          -1.18226364e-01, -9.69618335e-02,  9.65080559e-02],\n",
      "         [ 1.05488800e-01,  6.10777318e-01,  6.24625087e-01, ...,\n",
      "           2.20550708e-02, -2.04820633e-01, -3.84306729e-01],\n",
      "         ...,\n",
      "         [ 9.16557312e-02, -9.82062891e-02, -9.17318240e-02, ...,\n",
      "          -7.00726211e-02,  1.05197623e-01,  1.36618018e-01],\n",
      "         [-4.46276188e-01,  5.25807619e-01,  2.73736864e-01, ...,\n",
      "           9.93497223e-02, -2.30192319e-01, -1.28161805e-02],\n",
      "         [ 9.37175676e-02,  1.30836638e-02, -2.86005612e-04, ...,\n",
      "           2.87108757e-02,  2.20080577e-02,  1.19614258e-01]],\n",
      "\n",
      "        [[ 1.38775960e-01, -4.35733655e-03, -5.33793233e-02, ...,\n",
      "          -1.10070579e-01, -2.00500429e-01,  1.73707634e-01],\n",
      "         [ 1.82494238e-01,  2.96721496e-02, -2.29171902e-01, ...,\n",
      "           1.66351628e-02,  1.99735776e-01,  1.15196645e-01],\n",
      "         [-2.42273167e-01,  2.28702188e-01,  5.92081070e-01, ...,\n",
      "          -2.99317539e-01, -2.64062554e-01, -1.07721716e-01],\n",
      "         ...,\n",
      "         [ 3.17152888e-02,  7.51831681e-02, -2.21271545e-01, ...,\n",
      "           2.86834799e-02,  1.45494193e-02,  1.15894638e-01],\n",
      "         [-3.50695550e-01,  6.15305384e-04, -5.71478792e-02, ...,\n",
      "           1.66315347e-01, -3.81845355e-01,  4.15908359e-02],\n",
      "         [ 1.72270715e-01, -1.13612667e-01, -2.10758865e-01, ...,\n",
      "           2.99055707e-02, -2.71040108e-02, -1.00348532e-01]]]],\n",
      "      dtype=float32), array([-0.06657222, -0.08727954,  0.02947973,  0.05040739, -0.04801355,\n",
      "       -0.01726748,  0.00737485, -0.0334339 ,  0.03381152,  0.06400858,\n",
      "       -0.04219189,  0.12884302, -0.01241388,  0.12550312, -0.0395313 ,\n",
      "       -0.03115001], dtype=float32)]\n",
      "[]\n",
      "[]\n",
      "[array([[ 0.03687619,  0.07007409, -0.32268298, ..., -0.24492161,\n",
      "         0.14975977,  0.05995943],\n",
      "       [-0.05007202,  0.06227638, -0.20308997, ..., -0.04635386,\n",
      "         0.0246764 ,  0.01961625],\n",
      "       [-0.04664649, -0.11505879, -0.07435166, ...,  0.00678675,\n",
      "        -0.17636093,  0.0056101 ],\n",
      "       ...,\n",
      "       [-0.1247127 , -0.12633984, -0.02729267, ..., -0.03028974,\n",
      "        -0.0564067 , -0.12817217],\n",
      "       [-0.04911388,  0.04349024, -0.1626853 , ..., -0.18281633,\n",
      "        -0.07504592,  0.07364722],\n",
      "       [-0.08595857, -0.07614773, -0.01930115, ..., -0.05402337,\n",
      "         0.00874383,  0.04077417]], dtype=float32), array([-0.01964761, -0.01869895, -0.02228355, -0.01141214,  0.12257864,\n",
      "        0.0367822 , -0.03550721,  0.08243775, -0.06010273,  0.08332039,\n",
      "        0.07210752, -0.01080199,  0.03758036,  0.06179884, -0.02858091,\n",
      "       -0.09952529, -0.0958497 ,  0.13821359, -0.00726419, -0.01416464,\n",
      "       -0.08610272, -0.02838195, -0.00806196,  0.06858537,  0.18370081,\n",
      "        0.11065082,  0.06536174,  0.0419025 , -0.00126749, -0.12332842,\n",
      "        0.00551905,  0.16741309], dtype=float32)]\n",
      "[array([[-0.1827048 , -0.31700388, -0.33043572,  0.21697192, -0.2669314 ,\n",
      "         0.33719546, -0.3437927 ,  0.1999435 , -0.11658467,  0.06563787],\n",
      "       [-0.3584672 ,  0.2535308 ,  0.15531015,  0.14921074, -0.01013767,\n",
      "        -0.3672178 , -0.46205688, -0.2669862 , -0.1862829 , -0.27406245],\n",
      "       [ 0.05008892, -0.12323867, -0.30925614, -0.36375713, -0.43895212,\n",
      "         0.48922575, -0.39891765,  0.3309104 , -0.05697729, -0.39886415],\n",
      "       [-0.03115535, -0.01298908,  0.14175944,  0.3224622 ,  0.2191647 ,\n",
      "        -0.3661582 ,  0.03317901,  0.25904423,  0.0053766 , -0.2715575 ],\n",
      "       [-0.22967207,  0.08415437, -0.18850298, -0.07039224, -0.5258368 ,\n",
      "        -0.3136534 , -0.5767917 ,  0.52659404, -0.6554508 ,  0.00370439],\n",
      "       [ 0.07566427, -0.4914393 , -0.29452983, -0.19475044, -0.5516293 ,\n",
      "         0.37158793,  0.04840214,  0.26185462,  0.29089808, -0.26287255],\n",
      "       [-0.19809696, -0.39638752, -0.25093475,  0.25383234,  0.29816595,\n",
      "        -0.30602312,  0.38698533,  0.15406974, -0.08246876, -0.34127924],\n",
      "       [-0.2309161 ,  0.04295042,  0.12093262, -0.34187478,  0.05645007,\n",
      "         0.19218859,  0.20828773, -0.20554125,  0.31147152,  0.42053384],\n",
      "       [ 0.25070885, -0.38255617,  0.34380585,  0.19040187,  0.42333606,\n",
      "        -0.19602683, -0.08510465, -0.3846279 ,  0.3140091 , -0.634558  ],\n",
      "       [-0.02052298,  0.26263744, -0.13541774, -0.44692343, -0.2236564 ,\n",
      "         0.02339416, -0.44638845,  0.01688664, -0.02393921,  0.2282514 ],\n",
      "       [ 0.34212184,  0.32486543, -0.7615856 ,  0.17383528, -0.22937696,\n",
      "        -0.15577522,  0.22015335,  0.20264177, -0.11069268,  0.08628976],\n",
      "       [-0.21627113,  0.12274824,  0.1518567 ,  0.27983508, -0.03568183,\n",
      "        -0.238981  , -0.37036324, -0.12940075, -0.30786738, -0.36207345],\n",
      "       [-0.19599344,  0.27279174,  0.02100406,  0.00625089, -0.09813672,\n",
      "         0.12148079,  0.04814766,  0.02022615,  0.4517496 , -0.09917035],\n",
      "       [ 0.34021306,  0.32819867,  0.00486967,  0.27956688,  0.04086218,\n",
      "        -0.08138353,  0.28212556, -0.27997425, -0.4290463 , -0.18059981],\n",
      "       [-0.2123647 ,  0.31085575,  0.15409137,  0.09924553, -0.28298375,\n",
      "         0.1329901 , -0.24947685, -0.3531374 ,  0.29502532,  0.2279612 ],\n",
      "       [-0.40523478,  0.20100208, -0.60380024,  0.24694033, -0.16998768,\n",
      "         0.37750867, -0.5752867 , -0.15182252,  0.07738615, -0.07295801],\n",
      "       [-0.13951515,  0.2612196 ,  0.09954773,  0.12693256,  0.41252   ,\n",
      "        -0.41982436,  0.1243804 , -0.43861476,  0.2254454 , -0.25994268],\n",
      "       [-0.17265703, -0.4217196 , -0.06136921,  0.08702102, -0.3222085 ,\n",
      "        -0.3982528 ,  0.07983538,  0.09376334,  0.3224199 ,  0.27614763],\n",
      "       [ 0.14053485, -0.13173886, -0.23973213,  0.2871618 ,  0.35491878,\n",
      "        -0.2416699 ,  0.3333684 , -0.00308094,  0.00144779,  0.17148542],\n",
      "       [-0.1493235 ,  0.325432  , -0.22383   ,  0.32342425, -0.23950835,\n",
      "        -0.09377649, -0.2675664 , -0.37049758,  0.1944889 , -0.09179725],\n",
      "       [-0.0412371 , -0.40102205, -0.43363577,  0.09478741,  0.3420542 ,\n",
      "         0.32803306,  0.14255199,  0.25436962, -0.299726  ,  0.43391606],\n",
      "       [-0.30567527,  0.16083406,  0.4005322 ,  0.23582867,  0.21005277,\n",
      "         0.17452829, -0.24510379,  0.17196801, -0.09029909, -0.23868628],\n",
      "       [ 0.2666004 ,  0.17697065,  0.34760112, -0.05388558,  0.07691083,\n",
      "        -0.3132305 , -0.00568432,  0.30209756,  0.35021374, -0.1937288 ],\n",
      "       [ 0.11781743,  0.00490851,  0.15178566, -0.42793489,  0.04984763,\n",
      "        -0.48812336, -0.31949794,  0.28534964,  0.42248473, -0.1949004 ],\n",
      "       [ 0.4007017 ,  0.07398533,  0.25198907,  0.12954696, -0.2796589 ,\n",
      "        -0.52775425,  0.33702344, -0.1463253 ,  0.07116184, -0.43410426],\n",
      "       [ 0.13677548,  0.3207706 ,  0.3905645 ,  0.24607885,  0.10305184,\n",
      "         0.17173451,  0.20008767, -0.58628684, -0.32128236, -0.14412808],\n",
      "       [-0.17171282, -0.56392354,  0.1941379 , -0.26168206, -0.08152677,\n",
      "         0.04579255, -0.3604838 , -0.1718368 , -0.29930052,  0.24786994],\n",
      "       [ 0.22276646, -0.07359455,  0.00128907,  0.4470752 , -0.07986373,\n",
      "        -0.26969224, -0.24661091,  0.14514667,  0.3968788 , -0.12955858],\n",
      "       [-0.13605276,  0.2608173 , -0.10476048,  0.27677494, -0.6489177 ,\n",
      "         0.4742569 , -0.16180894, -0.07121672, -0.04811485,  0.22343163],\n",
      "       [-0.35889834, -0.50076437,  0.07188536, -0.38201362, -0.467131  ,\n",
      "         0.57289505, -0.32291356, -0.4158765 , -0.53115875,  0.15007421],\n",
      "       [ 0.03057035,  0.21112382,  0.11449644, -0.18184997,  0.24936083,\n",
      "        -0.25011674,  0.18326466, -0.49374026,  0.05046913, -0.17914002],\n",
      "       [ 0.37983412, -0.46239263,  0.33957013, -0.07074187, -0.11166096,\n",
      "         0.16205727,  0.28996474,  0.0816151 ,  0.01922505, -0.2186622 ]],\n",
      "      dtype=float32), array([ 0.03214191, -0.02212168,  0.09056117, -0.09479286, -0.10676135,\n",
      "       -0.13531391,  0.09481452,  0.05972061, -0.0890553 ,  0.06274799],\n",
      "      dtype=float32)]\n"
     ]
    }
   ],
   "source": [
    "for layer in model.layers:\n",
    "    print(layer.get_weights())"
   ]
  },
  {
   "cell_type": "code",
   "execution_count": 27,
   "metadata": {},
   "outputs": [
    {
     "data": {
      "image/png": "[encoded data removed]",
      "text/plain": [
       "<Figure size 432x288 with 1 Axes>"
      ]
     },
     "metadata": {
      "needs_background": "light"
     },
     "output_type": "display_data"
    },
    {
     "name": "stdout",
     "output_type": "stream",
     "text": [
      "4\n",
      "4\n",
      "coat\n"
     ]
    }
   ],
   "source": [
    "plt.imshow(X_test[541], cmap = 'binary')\n",
    "plt.show()\n",
    "\n",
    "print(np.argmax(model.predict(X_test_n[np.newaxis, 541])))\n",
    "print(y_test[541])\n",
    "print(target_names[y_test[541]])"
   ]
  },
  {
   "cell_type": "code",
   "execution_count": null,
   "metadata": {},
   "outputs": [],
   "source": []
  }
 ],
 "metadata": {
  "kernelspec": {
   "display_name": "Python 3",
   "language": "python",
   "name": "python3"
  },
  "language_info": {
   "codemirror_mode": {
    "name": "ipython",
    "version": 3
   },
   "file_extension": ".py",
   "mimetype": "text/x-python",
   "name": "python",
   "nbconvert_exporter": "python",
   "pygments_lexer": "ipython3",
   "version": "3.7.4"
  }
 },
 "nbformat": 4,
 "nbformat_minor": 2
}
