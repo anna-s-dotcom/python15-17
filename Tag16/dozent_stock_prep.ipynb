{
 "cells": [
  {
   "cell_type": "code",
   "execution_count": 19,
   "metadata": {},
   "outputs": [],
   "source": [
    "import pandas as pd\n",
    "import numpy as np\n",
    "import matplotlib.pyplot as plt"
   ]
  },
  {
   "cell_type": "code",
   "execution_count": 13,
   "metadata": {},
   "outputs": [],
   "source": [
    "df_train = pd.read_csv('Google_Stock_Price_Train.csv',\n",
    "                      thousands = ',')"
   ]
  },
  {
   "cell_type": "code",
   "execution_count": 17,
   "metadata": {
    "collapsed": true
   },
   "outputs": [
    {
     "data": {
      "image/png": "[encoded data removed]",
      "text/plain": [
       "<Figure size 432x288 with 1 Axes>"
      ]
     },
     "metadata": {
      "needs_background": "light"
     },
     "output_type": "display_data"
    }
   ],
   "source": [
    "df_train.head()\n",
    "train_set = df_train['Open'].values\n",
    "\n",
    "df_train\n",
    "\n",
    "plt.plot(df_train['Close'], label = 'Close')\n",
    "plt.plot(df_train['Open'], label = 'Open')\n",
    "plt.legend()\n",
    "plt.show()"
   ]
  },
  {
   "cell_type": "code",
   "execution_count": 23,
   "metadata": {
    "collapsed": true
   },
   "outputs": [
    {
     "name": "stdout",
     "output_type": "stream",
     "text": [
      "(1198, 60)\n",
      "(1198,)\n",
      "[783.33 782.75]\n",
      "[779.31 779.   779.66 777.71 786.66 783.76 781.22 781.65 779.8  787.85\n",
      " 798.24 803.3  795.   804.9  816.68 806.34 801.   808.35 795.47 782.89\n",
      " 778.2  767.25 750.66 774.5  783.4  779.94 791.17 756.54 755.6  746.97\n",
      " 755.2  766.92 771.37 762.61 772.63 767.73 764.26 760.   771.53 770.07\n",
      " 757.44 744.59 757.71 764.73 761.   772.48 780.   785.04 793.9  797.4\n",
      " 797.34 800.4  790.22 796.76 795.84 792.36 790.9  790.68 793.7  783.33]\n",
      "782.75\n"
     ]
    }
   ],
   "source": [
    "timestep = 60\n",
    "X_train = []\n",
    "y_train = train_set[timestep:]\n",
    "\n",
    "for i in range(timestep, len(train_set)):\n",
    "    X_train.append(train_set[i-timestep:i])\n",
    "\n",
    "X_train = np.asarray(X_train)\n",
    "    \n",
    "print(X_train.shape)\n",
    "print(y_train.shape)\n",
    "\n",
    "print(train_set[-2:])\n",
    "print(X_train[-1])\n",
    "print(y_train[-1])"
   ]
  },
  {
   "cell_type": "code",
   "execution_count": 26,
   "metadata": {},
   "outputs": [],
   "source": [
    "import pickle\n",
    "\n",
    "pickle_out = open('stock.pkl', 'wb')\n",
    "pickle.dump((X_train, y_train), pickle_out)\n",
    "pickle_out.close()"
   ]
  },
  {
   "cell_type": "markdown",
   "metadata": {},
   "source": [
    "<h1>Preprocessing für Testdaten</h1>"
   ]
  },
  {
   "cell_type": "code",
   "execution_count": 27,
   "metadata": {},
   "outputs": [],
   "source": [
    "df_test = pd.read_csv('Google_Stock_Price_Test.csv',\n",
    "                      thousands = ',')"
   ]
  },
  {
   "cell_type": "code",
   "execution_count": 46,
   "metadata": {
    "collapsed": true
   },
   "outputs": [
    {
     "name": "stdout",
     "output_type": "stream",
     "text": [
      "(20, 60, 1)\n",
      "(20,)\n"
     ]
    },
    {
     "data": {
      "text/plain": [
       "array([[[779.  ],\n",
       "        [779.66],\n",
       "        [777.71],\n",
       "        ...,\n",
       "        [793.7 ],\n",
       "        [783.33],\n",
       "        [782.75]],\n",
       "\n",
       "       [[779.66],\n",
       "        [777.71],\n",
       "        [786.66],\n",
       "        ...,\n",
       "        [783.33],\n",
       "        [782.75],\n",
       "        [778.81]],\n",
       "\n",
       "       [[777.71],\n",
       "        [786.66],\n",
       "        [783.76],\n",
       "        ...,\n",
       "        [782.75],\n",
       "        [778.81],\n",
       "        [788.36]],\n",
       "\n",
       "       ...,\n",
       "\n",
       "       [[795.47],\n",
       "        [782.89],\n",
       "        [778.2 ],\n",
       "        ...,\n",
       "        [822.3 ],\n",
       "        [829.62],\n",
       "        [837.81]],\n",
       "\n",
       "       [[782.89],\n",
       "        [778.2 ],\n",
       "        [767.25],\n",
       "        ...,\n",
       "        [829.62],\n",
       "        [837.81],\n",
       "        [834.71]],\n",
       "\n",
       "       [[778.2 ],\n",
       "        [767.25],\n",
       "        [750.66],\n",
       "        ...,\n",
       "        [837.81],\n",
       "        [834.71],\n",
       "        [814.66]]])"
      ]
     },
     "execution_count": 46,
     "metadata": {},
     "output_type": "execute_result"
    }
   ],
   "source": [
    "test_set = df_test['Open'].values\n",
    "\n",
    "y_test = test_set.copy()\n",
    "\n",
    "\n",
    "X_test = np.concatenate((train_set[-timestep:] , y_test[:-1]))\n",
    "\n",
    "X_test_final = []\n",
    "\n",
    "for i in range(timestep, len(test_set)+timestep):\n",
    "    X_test_final.append(X_test[i-timestep:i])\n",
    "\n",
    "X_test_final = np.asarray(X_test_final)\n",
    "X_test_final = X_test_final[:,:, np.newaxis]\n",
    "\n",
    "print(X_test_final.shape)\n",
    "print(y_test.shape)\n",
    "\n",
    "X_test_final"
   ]
  },
  {
   "cell_type": "code",
   "execution_count": null,
   "metadata": {},
   "outputs": [],
   "source": [
    "import pickle\n",
    "\n",
    "file = open('stock_test.pkl', 'wb')\n",
    "pickle.dump()"
   ]
  }
 ],
 "metadata": {
  "kernelspec": {
   "display_name": "Python 3",
   "language": "python",
   "name": "python3"
  },
  "language_info": {
   "codemirror_mode": {
    "name": "ipython",
    "version": 3
   },
   "file_extension": ".py",
   "mimetype": "text/x-python",
   "name": "python",
   "nbconvert_exporter": "python",
   "pygments_lexer": "ipython3",
   "version": "3.7.4"
  }
 },
 "nbformat": 4,
 "nbformat_minor": 2
}
