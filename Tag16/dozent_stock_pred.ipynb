{
 "cells": [
  {
   "cell_type": "code",
   "execution_count": 1,
   "metadata": {},
   "outputs": [],
   "source": [
    "import pickle \n",
    "import numpy as np\n",
    "import matplotlib.pyplot as plt\n",
    "from tensorflow.keras.layers import Dense, LSTM, Dropout\n",
    "from tensorflow.keras.models import Sequential"
   ]
  },
  {
   "cell_type": "markdown",
   "metadata": {},
   "source": [
    "Laden der Daten:"
   ]
  },
  {
   "cell_type": "code",
   "execution_count": 30,
   "metadata": {},
   "outputs": [],
   "source": [
    "file = open('stock.pkl', 'rb')\n",
    "X, y = pickle.load(file)\n",
    "file.close()"
   ]
  },
  {
   "cell_type": "code",
   "execution_count": 31,
   "metadata": {
    "collapsed": true
   },
   "outputs": [
    {
     "name": "stdout",
     "output_type": "stream",
     "text": [
      "783.33\n",
      "782.75\n",
      "(1198, 60)\n",
      "(1198,)\n"
     ]
    }
   ],
   "source": [
    "print(X[-1, -1])\n",
    "print(y[-1])\n",
    "\n",
    "print(X.shape)\n",
    "print(y.shape)\n",
    "\n",
    "X = np.reshape(X, (X.shape[0], X.shape[1], 1))"
   ]
  },
  {
   "cell_type": "markdown",
   "metadata": {},
   "source": [
    "Erstellen des Models"
   ]
  },
  {
   "cell_type": "code",
   "execution_count": 39,
   "metadata": {},
   "outputs": [],
   "source": [
    "model = Sequential()\n",
    "\n",
    "model.add(LSTM(64, return_sequences = True,\n",
    "              input_shape = (60, 1)))\n",
    "model.add(Dropout(rate= 0.2))\n",
    "\n",
    "model.add(LSTM(64, return_sequences = False))\n",
    "model.add(Dropout(rate= 0.2))\n",
    "\n",
    "model.add(Dense(128, activation = 'relu'))\n",
    "\n",
    "model.add(Dense(1, activation = 'linear'))\n",
    "\n",
    "model.compile(optimizer = 'adam',\n",
    "             metrics = ['mse', 'mae', 'mape'],\n",
    "             loss = 'mse')"
   ]
  },
  {
   "cell_type": "code",
   "execution_count": 40,
   "metadata": {
    "collapsed": true
   },
   "outputs": [
    {
     "name": "stdout",
     "output_type": "stream",
     "text": [
      "Train on 1198 samples\n",
      "Epoch 1/69\n",
      "1198/1198 [==============================] - 20s 17ms/sample - loss: 311428.1328 - mse: 311428.1250 - mae: 538.3334 - mape: 98.6344\n",
      "Epoch 2/69\n",
      "1198/1198 [==============================] - 10s 8ms/sample - loss: 272918.7905 - mse: 272918.8125 - mae: 501.2803 - mape: 91.2891\n",
      "Epoch 3/69\n",
      "1198/1198 [==============================] - 11s 9ms/sample - loss: 212789.0764 - mse: 212789.1094 - mae: 436.7749 - mape: 78.4237\n",
      "Epoch 4/69\n",
      "1198/1198 [==============================] - 11s 9ms/sample - loss: 146492.9380 - mse: 146492.9219 - mae: 352.5145 - mape: 61.6752\n",
      "Epoch 5/69\n",
      "1198/1198 [==============================] - 10s 8ms/sample - loss: 88162.0637 - mse: 88162.0625 - mae: 257.5411 - mape: 42.9769\n",
      "Epoch 6/69\n",
      "1198/1198 [==============================] - 11s 9ms/sample - loss: 49440.1487 - mse: 49440.1484 - mae: 183.4184 - mape: 30.3650\n",
      "Epoch 7/69\n",
      "1198/1198 [==============================] - 11s 9ms/sample - loss: 30358.4436 - mse: 30358.4473 - mae: 144.2195 - mape: 25.9091\n",
      "Epoch 8/69\n",
      "1198/1198 [==============================] - 10s 9ms/sample - loss: 23976.0618 - mse: 23976.0605 - mae: 128.1968 - mape: 24.9977\n",
      "Epoch 9/69\n",
      "1198/1198 [==============================] - 11s 9ms/sample - loss: 22542.5501 - mse: 22542.5488 - mae: 123.8547 - mape: 25.1876\n",
      "Epoch 10/69\n",
      "1198/1198 [==============================] - 11s 9ms/sample - loss: 22520.8986 - mse: 22520.8984 - mae: 123.4627 - mape: 25.4651\n",
      "Epoch 11/69\n",
      "1198/1198 [==============================] - 10s 9ms/sample - loss: 22559.8879 - mse: 22559.8906 - mae: 122.9999 - mape: 25.6249\n",
      "Epoch 12/69\n",
      "1198/1198 [==============================] - 11s 9ms/sample - loss: 22832.4812 - mse: 22832.4805 - mae: 124.2374 - mape: 25.9920\n",
      "Epoch 13/69\n",
      "1198/1198 [==============================] - 10s 8ms/sample - loss: 22607.3565 - mse: 22607.3516 - mae: 123.8361 - mape: 25.7083\n",
      "Epoch 14/69\n",
      "1198/1198 [==============================] - 10s 9ms/sample - loss: 22846.2644 - mse: 22846.2695 - mae: 124.0026 - mape: 25.8821\n",
      "Epoch 15/69\n",
      "1198/1198 [==============================] - 11s 9ms/sample - loss: 22631.6522 - mse: 22631.6523 - mae: 122.9359 - mape: 25.6005\n",
      "Epoch 16/69\n",
      "1198/1198 [==============================] - 10s 8ms/sample - loss: 20588.5091 - mse: 20588.5117 - mae: 117.6792 - mape: 23.9567\n",
      "Epoch 17/69\n",
      "1198/1198 [==============================] - 11s 9ms/sample - loss: 14805.6760 - mse: 14805.6758 - mae: 98.1403 - mape: 19.1462\n",
      "Epoch 18/69\n",
      "1198/1198 [==============================] - 11s 9ms/sample - loss: 10032.6128 - mse: 10032.6123 - mae: 80.9318 - mape: 15.0085\n",
      "Epoch 19/69\n",
      "1198/1198 [==============================] - 10s 9ms/sample - loss: 8533.0391 - mse: 8533.0381 - mae: 73.3667 - mape: 13.0983\n",
      "Epoch 20/69\n",
      "1198/1198 [==============================] - 11s 9ms/sample - loss: 6966.6319 - mse: 6966.6309 - mae: 66.4405 - mape: 12.0800\n",
      "Epoch 21/69\n",
      "1198/1198 [==============================] - 10s 8ms/sample - loss: 5218.0360 - mse: 5218.0361 - mae: 57.6577 - mape: 10.7113\n",
      "Epoch 22/69\n",
      "1198/1198 [==============================] - 10s 8ms/sample - loss: 3843.6154 - mse: 3843.6157 - mae: 49.1159 - mape: 9.2440\n",
      "Epoch 23/69\n",
      "1198/1198 [==============================] - 10s 8ms/sample - loss: 3697.7152 - mse: 3697.7153 - mae: 48.4565 - mape: 9.3961\n",
      "Epoch 24/69\n",
      "1198/1198 [==============================] - 11s 9ms/sample - loss: 3740.8713 - mse: 3740.8713 - mae: 48.5793 - mape: 9.5318\n",
      "Epoch 25/69\n",
      "1198/1198 [==============================] - 10s 8ms/sample - loss: 3462.7983 - mse: 3462.7983 - mae: 46.3462 - mape: 8.9160\n",
      "Epoch 26/69\n",
      "1198/1198 [==============================] - 11s 9ms/sample - loss: 3087.5348 - mse: 3087.5342 - mae: 44.0774 - mape: 8.5468\n",
      "Epoch 27/69\n",
      "1198/1198 [==============================] - 11s 9ms/sample - loss: 3305.1734 - mse: 3305.1736 - mae: 45.5991 - mape: 8.7663\n",
      "Epoch 28/69\n",
      "1198/1198 [==============================] - 10s 8ms/sample - loss: 2524.1000 - mse: 2524.0999 - mae: 40.0116 - mape: 7.7301\n",
      "Epoch 29/69\n",
      "1198/1198 [==============================] - 10s 9ms/sample - loss: 2551.6822 - mse: 2551.6821 - mae: 40.2660 - mape: 7.7721\n",
      "Epoch 30/69\n",
      "1198/1198 [==============================] - 10s 8ms/sample - loss: 2491.4064 - mse: 2491.4062 - mae: 39.8026 - mape: 7.6934\n",
      "Epoch 31/69\n",
      "1198/1198 [==============================] - 11s 9ms/sample - loss: 2435.0910 - mse: 2435.0908 - mae: 38.5793 - mape: 7.4565\n",
      "Epoch 32/69\n",
      "1198/1198 [==============================] - 11s 9ms/sample - loss: 2601.1714 - mse: 2601.1716 - mae: 39.6566 - mape: 7.5514\n",
      "Epoch 33/69\n",
      "1198/1198 [==============================] - 10s 9ms/sample - loss: 2541.1628 - mse: 2541.1626 - mae: 40.1161 - mape: 7.8025\n",
      "Epoch 34/69\n",
      "1198/1198 [==============================] - 10s 8ms/sample - loss: 2567.8449 - mse: 2567.8452 - mae: 40.0879 - mape: 7.7744\n",
      "Epoch 35/69\n",
      "1198/1198 [==============================] - 10s 9ms/sample - loss: 2408.7884 - mse: 2408.7883 - mae: 38.4849 - mape: 7.3659\n",
      "Epoch 36/69\n",
      "1198/1198 [==============================] - 10s 9ms/sample - loss: 2276.8133 - mse: 2276.8135 - mae: 36.6479 - mape: 6.9467\n",
      "Epoch 37/69\n",
      "1198/1198 [==============================] - 11s 10ms/sample - loss: 2139.8233 - mse: 2139.8235 - mae: 36.8540 - mape: 7.0618\n",
      "Epoch 38/69\n",
      "1198/1198 [==============================] - 11s 9ms/sample - loss: 2304.7606 - mse: 2304.7605 - mae: 37.6503 - mape: 7.2076\n",
      "Epoch 39/69\n",
      "1198/1198 [==============================] - 10s 8ms/sample - loss: 2532.4457 - mse: 2532.4460 - mae: 39.5943 - mape: 7.5008\n",
      "Epoch 40/69\n",
      "1198/1198 [==============================] - 11s 9ms/sample - loss: 2087.5159 - mse: 2087.5159 - mae: 36.3652 - mape: 6.8920\n",
      "Epoch 41/69\n",
      "1198/1198 [==============================] - 11s 9ms/sample - loss: 2170.5000 - mse: 2170.5000 - mae: 36.8103 - mape: 6.9608\n",
      "Epoch 42/69\n",
      "1198/1198 [==============================] - 10s 9ms/sample - loss: 2091.2665 - mse: 2091.2666 - mae: 36.6445 - mape: 7.0264\n",
      "Epoch 43/69\n",
      "1198/1198 [==============================] - 11s 9ms/sample - loss: 1995.3711 - mse: 1995.3712 - mae: 35.3535 - mape: 6.8416\n",
      "Epoch 44/69\n",
      "1198/1198 [==============================] - 11s 9ms/sample - loss: 2288.4454 - mse: 2288.4453 - mae: 37.4308 - mape: 7.0357\n",
      "Epoch 45/69\n",
      "1198/1198 [==============================] - 10s 8ms/sample - loss: 2148.2523 - mse: 2148.2522 - mae: 36.2475 - mape: 6.9049\n",
      "Epoch 46/69\n",
      "1198/1198 [==============================] - 11s 9ms/sample - loss: 1989.5064 - mse: 1989.5065 - mae: 34.9102 - mape: 6.6573\n",
      "Epoch 47/69\n",
      "1198/1198 [==============================] - 11s 9ms/sample - loss: 1821.8025 - mse: 1821.8026 - mae: 33.5767 - mape: 6.3356\n",
      "Epoch 48/69\n",
      "1198/1198 [==============================] - 10s 8ms/sample - loss: 1779.3174 - mse: 1779.3171 - mae: 33.1417 - mape: 6.2899\n",
      "Epoch 49/69\n",
      "1198/1198 [==============================] - 11s 9ms/sample - loss: 1993.0490 - mse: 1993.0492 - mae: 35.1221 - mape: 6.6803\n",
      "Epoch 50/69\n",
      "1198/1198 [==============================] - 11s 9ms/sample - loss: 1982.8335 - mse: 1982.8339 - mae: 35.2397 - mape: 6.7107\n",
      "Epoch 51/69\n",
      "1198/1198 [==============================] - 10s 8ms/sample - loss: 2140.0483 - mse: 2140.0481 - mae: 36.5652 - mape: 6.8957\n",
      "Epoch 52/69\n",
      "1198/1198 [==============================] - 11s 9ms/sample - loss: 1955.4038 - mse: 1955.4042 - mae: 34.8440 - mape: 6.5599\n",
      "Epoch 53/69\n",
      "1198/1198 [==============================] - 11s 9ms/sample - loss: 1792.7436 - mse: 1792.7435 - mae: 33.3080 - mape: 6.2971\n",
      "Epoch 54/69\n",
      "1198/1198 [==============================] - 10s 8ms/sample - loss: 1913.8820 - mse: 1913.8818 - mae: 33.7853 - mape: 6.3696\n",
      "Epoch 55/69\n",
      "1198/1198 [==============================] - 11s 9ms/sample - loss: 1799.1559 - mse: 1799.1559 - mae: 33.0811 - mape: 6.2262\n",
      "Epoch 56/69\n",
      "1198/1198 [==============================] - 11s 9ms/sample - loss: 2003.3195 - mse: 2003.3199 - mae: 35.3070 - mape: 6.6853\n",
      "Epoch 57/69\n",
      "1198/1198 [==============================] - 10s 9ms/sample - loss: 2017.9289 - mse: 2017.9294 - mae: 35.4497 - mape: 6.6462\n",
      "Epoch 58/69\n",
      "1198/1198 [==============================] - 10s 9ms/sample - loss: 1931.9480 - mse: 1931.9480 - mae: 34.1060 - mape: 6.4279\n",
      "Epoch 59/69\n",
      "1198/1198 [==============================] - 11s 9ms/sample - loss: 2222.0263 - mse: 2222.0261 - mae: 37.1147 - mape: 7.0019\n",
      "Epoch 60/69\n"
     ]
    },
    {
     "name": "stdout",
     "output_type": "stream",
     "text": [
      "1198/1198 [==============================] - 10s 9ms/sample - loss: 1825.9752 - mse: 1825.9756 - mae: 32.4247 - mape: 6.0857\n",
      "Epoch 61/69\n",
      "1198/1198 [==============================] - 11s 9ms/sample - loss: 2047.7413 - mse: 2047.7412 - mae: 35.0205 - mape: 6.5669\n",
      "Epoch 62/69\n",
      "1198/1198 [==============================] - 11s 9ms/sample - loss: 2018.9755 - mse: 2018.9756 - mae: 35.2745 - mape: 6.6899\n",
      "Epoch 63/69\n",
      "1198/1198 [==============================] - 10s 8ms/sample - loss: 2050.2322 - mse: 2050.2327 - mae: 34.9333 - mape: 6.5438\n",
      "Epoch 64/69\n",
      "1198/1198 [==============================] - 11s 9ms/sample - loss: 1797.8541 - mse: 1797.8541 - mae: 32.6399 - mape: 6.1171\n",
      "Epoch 65/69\n",
      "1198/1198 [==============================] - 12s 10ms/sample - loss: 1846.3309 - mse: 1846.3308 - mae: 33.8297 - mape: 6.3952\n",
      "Epoch 66/69\n",
      "1198/1198 [==============================] - 10s 8ms/sample - loss: 1940.5699 - mse: 1940.5701 - mae: 34.2980 - mape: 6.4444\n",
      "Epoch 67/69\n",
      "1198/1198 [==============================] - 11s 10ms/sample - loss: 1891.2432 - mse: 1891.2432 - mae: 33.8924 - mape: 6.2912\n",
      "Epoch 68/69\n",
      "1198/1198 [==============================] - 11s 9ms/sample - loss: 1725.7531 - mse: 1725.7532 - mae: 32.2145 - mape: 6.0160\n",
      "Epoch 69/69\n",
      "1198/1198 [==============================] - 11s 9ms/sample - loss: 1924.6560 - mse: 1924.6561 - mae: 33.7631 - mape: 6.2968\n"
     ]
    },
    {
     "data": {
      "text/plain": [
       "<tensorflow.python.keras.callbacks.History at 0x1aa4608f488>"
      ]
     },
     "execution_count": 40,
     "metadata": {},
     "output_type": "execute_result"
    }
   ],
   "source": [
    "model.fit(X, y, epochs = 69)"
   ]
  },
  {
   "cell_type": "code",
   "execution_count": 43,
   "metadata": {},
   "outputs": [],
   "source": [
    "file = open('stock_test.pkl', 'rb')\n",
    "X_test, y_test = pickle.load(file)\n",
    "file.close()"
   ]
  },
  {
   "cell_type": "code",
   "execution_count": 44,
   "metadata": {},
   "outputs": [
    {
     "name": "stdout",
     "output_type": "stream",
     "text": [
      "\r",
      "20/1 [========================================================================================================================================================================================================================================================================================================================================================================================================================================================================================================================================================================================================================] - 11s 552ms/sample - loss: 2048.2258 - mse: 2048.2258 - mae: 43.0068 - mape: 5.2958\n"
     ]
    },
    {
     "data": {
      "text/plain": [
       "[2048.225830078125, 2048.2258, 43.006763, 5.295814]"
      ]
     },
     "execution_count": 44,
     "metadata": {},
     "output_type": "execute_result"
    }
   ],
   "source": [
    "model.evaluate(X_test, y_test)"
   ]
  }
 ],
 "metadata": {
  "kernelspec": {
   "display_name": "Python 3",
   "language": "python",
   "name": "python3"
  },
  "language_info": {
   "codemirror_mode": {
    "name": "ipython",
    "version": 3
   },
   "file_extension": ".py",
   "mimetype": "text/x-python",
   "name": "python",
   "nbconvert_exporter": "python",
   "pygments_lexer": "ipython3",
   "version": "3.7.4"
  }
 },
 "nbformat": 4,
 "nbformat_minor": 2
}
