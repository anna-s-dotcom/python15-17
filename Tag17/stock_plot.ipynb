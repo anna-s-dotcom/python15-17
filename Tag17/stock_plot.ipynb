{
 "cells": [
  {
   "cell_type": "code",
   "execution_count": 2,
   "metadata": {},
   "outputs": [],
   "source": [
    "import numpy as np\n",
    "from tensorflow.keras.models import load_model\n",
    "import matplotlib.pyplot as plt\n",
    "import pandas as pd\n",
    "import pickle"
   ]
  },
  {
   "cell_type": "markdown",
   "metadata": {},
   "source": [
    "Trainings und Testdaten laden"
   ]
  },
  {
   "cell_type": "code",
   "execution_count": 13,
   "metadata": {},
   "outputs": [],
   "source": [
    "file = open('stock.pkl', 'rb') \n",
    "X_train, y_train = pickle.load(file)\n",
    "file.close()\n",
    "\n",
    "file = open('stock_test.pkl', 'rb')\n",
    "X_test, y_test = pickle.load(file)\n",
    "file.close()\n",
    "\n",
    "X_train = X_train.reshape(X_train.shape[0], \n",
    "                          X_train.shape[1], \n",
    "                          1)"
   ]
  },
  {
   "cell_type": "markdown",
   "metadata": {},
   "source": [
    "Model laden"
   ]
  },
  {
   "cell_type": "code",
   "execution_count": 14,
   "metadata": {},
   "outputs": [],
   "source": [
    "model = load_model('stockpredmod.h5')"
   ]
  },
  {
   "cell_type": "markdown",
   "metadata": {},
   "source": [
    "Laden der CSV Dateien (für die X-Achse)"
   ]
  },
  {
   "cell_type": "code",
   "execution_count": 22,
   "metadata": {},
   "outputs": [],
   "source": [
    "x_axis_train = pd.read_csv('Google_Stock_Price_Train.csv', \n",
    "                       thousands = ',')['Date']\n",
    "x_axis_train = pd.to_datetime(x_axis_train)\n",
    "\n",
    "\n",
    "x_axis_test = pd.read_csv('Google_Stock_Price_Test.csv', \n",
    "                       thousands = ',')['Date']\n",
    "x_axis_test = pd.to_datetime(x_axis_test)"
   ]
  },
  {
   "cell_type": "code",
   "execution_count": 28,
   "metadata": {},
   "outputs": [
    {
     "name": "stdout",
     "output_type": "stream",
     "text": [
      "0      2012-01-03\n",
      "1      2012-01-04\n",
      "2      2012-01-05\n",
      "3      2012-01-06\n",
      "4      2012-01-09\n",
      "          ...    \n",
      "1253   2016-12-23\n",
      "1254   2016-12-27\n",
      "1255   2016-12-28\n",
      "1256   2016-12-29\n",
      "1257   2016-12-30\n",
      "Name: Date, Length: 1258, dtype: datetime64[ns]\n",
      "0    2017-01-03\n",
      "1    2017-01-04\n",
      "2    2017-01-05\n",
      "3    2017-01-06\n",
      "4    2017-01-09\n",
      "5    2017-01-10\n",
      "6    2017-01-11\n",
      "7    2017-01-12\n",
      "8    2017-01-13\n",
      "9    2017-01-17\n",
      "10   2017-01-18\n",
      "11   2017-01-19\n",
      "12   2017-01-20\n",
      "13   2017-01-23\n",
      "14   2017-01-24\n",
      "15   2017-01-25\n",
      "16   2017-01-26\n",
      "17   2017-01-27\n",
      "18   2017-01-30\n",
      "19   2017-01-31\n",
      "Name: Date, dtype: datetime64[ns]\n",
      "(1198, 60, 1)\n"
     ]
    }
   ],
   "source": [
    "print(x_axis_train)\n",
    "print(x_axis_test)\n",
    "print(X_train.shape)"
   ]
  },
  {
   "cell_type": "code",
   "execution_count": 36,
   "metadata": {},
   "outputs": [
    {
     "data": {
      "image/png": "[encoded data removed]",
      "text/plain": [
       "<Figure size 432x288 with 1 Axes>"
      ]
     },
     "metadata": {
      "needs_background": "light"
     },
     "output_type": "display_data"
    }
   ],
   "source": [
    "plt.plot(x_axis_train.iloc[60:], y_train, '-b', label = 'Train True')\n",
    "plt.plot(x_axis_train.iloc[60:], model.predict(X_train), \n",
    "                                 '-r', label = 'Train Pred')\n",
    "\n",
    "plt.plot(x_axis_test, y_test, '-g', label = 'Test True')\n",
    "plt.plot(x_axis_test, model.predict(X_test), '-y', label = 'Test Pred')\n",
    "\n",
    "plt.legend()\n",
    "plt.show()"
   ]
  }
 ],
 "metadata": {
  "kernelspec": {
   "display_name": "Python 3",
   "language": "python",
   "name": "python3"
  },
  "language_info": {
   "codemirror_mode": {
    "name": "ipython",
    "version": 3
   },
   "file_extension": ".py",
   "mimetype": "text/x-python",
   "name": "python",
   "nbconvert_exporter": "python",
   "pygments_lexer": "ipython3",
   "version": "3.7.4"
  }
 },
 "nbformat": 4,
 "nbformat_minor": 2
}
